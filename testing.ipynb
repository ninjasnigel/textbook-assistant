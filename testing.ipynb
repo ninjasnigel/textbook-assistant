{
 "cells": [
  {
   "cell_type": "code",
   "execution_count": 1,
   "metadata": {},
   "outputs": [],
   "source": [
    "#!pip install pdfminer\n",
    "#!pip install pypdf2\n",
    "#!pip install textract"
   ]
  },
  {
   "cell_type": "code",
   "execution_count": 2,
   "metadata": {},
   "outputs": [],
   "source": [
    "import pdfminer\n",
    "from PyPDF2 import PdfReader\n",
    "import textract\n",
    "import re"
   ]
  },
  {
   "cell_type": "code",
   "execution_count": 19,
   "metadata": {},
   "outputs": [
    {
     "name": "stdout",
     "output_type": "stream",
     "text": [
      "example2.pdf  example.pdf  README.md  script  testing.ipynb\n"
     ]
    }
   ],
   "source": [
    "reader = PdfReader(\"example2.pdf\")\n",
    "number_of_pages = len(reader.pages)\n",
    "page = reader.pages[1]\n",
    "text = page.extract_text()"
   ]
  },
  {
   "cell_type": "code",
   "execution_count": 21,
   "metadata": {},
   "outputs": [
    {
     "ename": "ImportError",
     "evalue": "cannot import name 'fix_dict' from 'extraction' (/home/david/chalmers/textbook-assistant/extraction.py)",
     "output_type": "error",
     "traceback": [
      "\u001b[0;31m---------------------------------------------------------------------------\u001b[0m",
      "\u001b[0;31mImportError\u001b[0m                               Traceback (most recent call last)",
      "Cell \u001b[0;32mIn[21], line 1\u001b[0m\n\u001b[0;32m----> 1\u001b[0m \u001b[39mfrom\u001b[39;00m \u001b[39mextraction\u001b[39;00m \u001b[39mimport\u001b[39;00m last_index_page, fix_dict \u001b[39m#category_dict\u001b[39;00m\n\u001b[1;32m      2\u001b[0m cats \u001b[39m=\u001b[39m category_dict(reader\u001b[39m.\u001b[39mpages)\n\u001b[1;32m      3\u001b[0m \u001b[39mfor\u001b[39;00m key, value \u001b[39min\u001b[39;00m cats\u001b[39m.\u001b[39mitems():\n",
      "\u001b[0;31mImportError\u001b[0m: cannot import name 'fix_dict' from 'extraction' (/home/david/chalmers/textbook-assistant/extraction.py)"
     ]
    }
   ],
   "source": [
    "from extraction import last_index_page, fix_dict #category_dict\n",
    "cats = category_dict(reader.pages)\n",
    "for key, value in cats.items():\n",
    "    print(f'{key}: {value}')"
   ]
  }
 ],
 "metadata": {
  "kernelspec": {
   "display_name": "Python 3",
   "language": "python",
   "name": "python3"
  },
  "language_info": {
   "codemirror_mode": {
    "name": "ipython",
    "version": 3
   },
   "file_extension": ".py",
   "mimetype": "text/x-python",
   "name": "python",
   "nbconvert_exporter": "python",
   "pygments_lexer": "ipython3",
   "version": "3.10.6"
  },
  "orig_nbformat": 4
 },
 "nbformat": 4,
 "nbformat_minor": 2
}
