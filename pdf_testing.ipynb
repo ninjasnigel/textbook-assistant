{
 "cells": [
  {
   "cell_type": "code",
   "execution_count": 5,
   "metadata": {},
   "outputs": [
    {
     "ename": "FileNotFoundError",
     "evalue": "no such file: 'path_to_your_pdf.pdf'",
     "output_type": "error",
     "traceback": [
      "\u001b[0;31m---------------------------------------------------------------------------\u001b[0m",
      "\u001b[0;31mFileNotFoundError\u001b[0m                         Traceback (most recent call last)",
      "Cell \u001b[0;32mIn[5], line 21\u001b[0m\n\u001b[1;32m     19\u001b[0m \u001b[39m# Open the PDF file\u001b[39;00m\n\u001b[1;32m     20\u001b[0m pdf_file \u001b[39m=\u001b[39m \u001b[39m'\u001b[39m\u001b[39mpath_to_your_pdf.pdf\u001b[39m\u001b[39m'\u001b[39m  \u001b[39m# specify the path to your PDF file\u001b[39;00m\n\u001b[0;32m---> 21\u001b[0m doc \u001b[39m=\u001b[39m fitz\u001b[39m.\u001b[39;49mopen(pdf_file)\n\u001b[1;32m     23\u001b[0m \u001b[39m# Extract the bookmarks\u001b[39;00m\n\u001b[1;32m     24\u001b[0m bookmarks \u001b[39m=\u001b[39m extract_bookmarks(doc\u001b[39m.\u001b[39mget_toc())\n",
      "File \u001b[0;32m~/.local/lib/python3.10/site-packages/fitz/fitz.py:4032\u001b[0m, in \u001b[0;36mDocument.__init__\u001b[0;34m(self, filename, stream, filetype, rect, width, height, fontsize)\u001b[0m\n\u001b[1;32m   4030\u001b[0m \u001b[39mif\u001b[39;00m \u001b[39mnot\u001b[39;00m os\u001b[39m.\u001b[39mpath\u001b[39m.\u001b[39mexists(filename):\n\u001b[1;32m   4031\u001b[0m     msg \u001b[39m=\u001b[39m \u001b[39mf\u001b[39m\u001b[39m\"\u001b[39m\u001b[39mno such file: \u001b[39m\u001b[39m'\u001b[39m\u001b[39m{\u001b[39;00mfilename\u001b[39m}\u001b[39;00m\u001b[39m'\u001b[39m\u001b[39m\"\u001b[39m\n\u001b[0;32m-> 4032\u001b[0m     \u001b[39mraise\u001b[39;00m \u001b[39mFileNotFoundError\u001b[39;00m(msg)\n\u001b[1;32m   4033\u001b[0m \u001b[39melif\u001b[39;00m \u001b[39mnot\u001b[39;00m os\u001b[39m.\u001b[39mpath\u001b[39m.\u001b[39misfile(filename):\n\u001b[1;32m   4034\u001b[0m     msg \u001b[39m=\u001b[39m \u001b[39mf\u001b[39m\u001b[39m\"\u001b[39m\u001b[39m'\u001b[39m\u001b[39m{\u001b[39;00mfilename\u001b[39m}\u001b[39;00m\u001b[39m'\u001b[39m\u001b[39m is no file\u001b[39m\u001b[39m\"\u001b[39m\n",
      "\u001b[0;31mFileNotFoundError\u001b[0m: no such file: 'path_to_your_pdf.pdf'"
     ]
    }
   ],
   "source": [
    "import fitz  # PyMuPDF\n",
    "import csv\n",
    "\n",
    "# Function to recursively extract bookmarks\n",
    "def extract_bookmarks(bookmarks, outline=[]):\n",
    "    for item in bookmarks:\n",
    "        # Check if the item has the required structure before extracting title and page\n",
    "        if isinstance(item, list) and len(item) >= 4:\n",
    "            title = item[1]\n",
    "            page = item[3] + 1  # Pages in PyMuPDF are 0-indexed\n",
    "            outline.append((title, page))\n",
    "\n",
    "            # Recursively extract child bookmarks if they exist\n",
    "            if len(item) > 4:\n",
    "                extract_bookmarks(item[4], outline)\n",
    "\n",
    "    return outline\n",
    "\n",
    "# Open the PDF file\n",
    "pdf_file = 'example.pdf'  # specify the path to your PDF file\n",
    "doc = fitz.open(pdf_file)\n",
    "\n",
    "# Extract the bookmarks\n",
    "bookmarks = extract_bookmarks(doc.get_toc())\n",
    "\n",
    "# Save bookmarks to a CSV file\n",
    "with open('bookmarks.csv', 'w', newline='', encoding='utf-8') as file:\n",
    "    writer = csv.writer(file)\n",
    "    # Write the header\n",
    "    writer.writerow(['Chapter', 'Page'])\n",
    "    # Write the bookmarks\n",
    "    for title, page in bookmarks:\n",
    "        writer.writerow([title, page])\n"
   ]
  }
 ],
 "metadata": {
  "kernelspec": {
   "display_name": "Python 3",
   "language": "python",
   "name": "python3"
  },
  "language_info": {
   "codemirror_mode": {
    "name": "ipython",
    "version": 3
   },
   "file_extension": ".py",
   "mimetype": "text/x-python",
   "name": "python",
   "nbconvert_exporter": "python",
   "pygments_lexer": "ipython3",
   "version": "3.10.6"
  },
  "orig_nbformat": 4
 },
 "nbformat": 4,
 "nbformat_minor": 2
}
