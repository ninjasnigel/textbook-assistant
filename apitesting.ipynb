{
 "cells": [
  {
   "cell_type": "code",
   "execution_count": 1,
   "metadata": {},
   "outputs": [
    {
     "name": "stdout",
     "output_type": "stream",
     "text": [
      "{\n",
      "  \"id\": \"chatcmpl-7TQdWY9JgqF46CCjPRaqdGY6pAid1\",\n",
      "  \"object\": \"chat.completion\",\n",
      "  \"created\": 1687248258,\n",
      "  \"model\": \"gpt-35-turbo\",\n",
      "  \"choices\": [\n",
      "    {\n",
      "      \"index\": 0,\n",
      "      \"finish_reason\": \"stop\",\n",
      "      \"message\": {\n",
      "        \"role\": \"assistant\",\n",
      "        \"content\": \"Yes, other Azure Cognitive Services also support customer managed keys. In fact, most Azure services that involve storing and processing sensitive data have the option to allow customers to manage their own encryption keys. This gives customers greater control over the security of their data and can help meet compliance requirements.\"\n",
      "      }\n",
      "    }\n",
      "  ],\n",
      "  \"usage\": {\n",
      "    \"completion_tokens\": 56,\n",
      "    \"prompt_tokens\": 59,\n",
      "    \"total_tokens\": 115\n",
      "  }\n",
      "}\n",
      "Yes, other Azure Cognitive Services also support customer managed keys. In fact, most Azure services that involve storing and processing sensitive data have the option to allow customers to manage their own encryption keys. This gives customers greater control over the security of their data and can help meet compliance requirements.\n"
     ]
    }
   ],
   "source": [
    "#Note: The openai-python library support for Azure OpenAI is in preview.\n",
    "import os\n",
    "import openai\n",
    "openai.api_type = \"azure\"\n",
    "openai.api_base = \"https://chalmers-mit-openai.openai.azure.com/\"\n",
    "openai.api_version = \"2023-05-15\"\n",
    "\n",
    "with(open('openai.key')) as f:\n",
    "    openai.api_key = f.read().strip()\n",
    "\n",
    "response = openai.ChatCompletion.create(\n",
    "    engine=\"gpt-35-turbo\", # engine = \"deployment_name\".\n",
    "    messages=[\n",
    "        {\"role\": \"system\", \"content\": \"You are a helpful assistant.\"},\n",
    "        {\"role\": \"user\", \"content\": \"Does Azure OpenAI support customer managed keys?\"},\n",
    "        {\"role\": \"assistant\", \"content\": \"Yes, customer managed keys are supported by Azure OpenAI.\"},\n",
    "        {\"role\": \"user\", \"content\": \"Do other Azure Cognitive Services support this too?\"}\n",
    "    ]\n",
    ")\n",
    "\n",
    "print(response)\n",
    "print(response['choices'][0]['message']['content'])"
   ]
  }
 ],
 "metadata": {
  "kernelspec": {
   "display_name": "Python 3",
   "language": "python",
   "name": "python3"
  },
  "language_info": {
   "codemirror_mode": {
    "name": "ipython",
    "version": 3
   },
   "file_extension": ".py",
   "mimetype": "text/x-python",
   "name": "python",
   "nbconvert_exporter": "python",
   "pygments_lexer": "ipython3",
   "version": "3.10.6"
  },
  "orig_nbformat": 4
 },
 "nbformat": 4,
 "nbformat_minor": 2
}
