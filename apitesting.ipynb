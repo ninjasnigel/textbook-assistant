{
 "cells": [
  {
   "cell_type": "code",
   "execution_count": 5,
   "metadata": {},
   "outputs": [
    {
     "name": "stdout",
     "output_type": "stream",
     "text": [
      "Are you familiar with the textbook 'Feedback Systems', by Karl Johan Åström and Richard M. Murray?\n",
      "Yes, I am familiar with the textbook 'Feedback Systems' by Karl Johan Åström and Richard M. Murray. It is a widely used textbook for courses in control systems and feedback control.\n",
      "\n",
      "Yes, I am familiar with the textbook 'Feedback Systems' by Karl Johan Åström and Richard M. Murray. It is a widely-used textbook on control theory and has been a standard reference in the field for many years.\n",
      "\n",
      "Yes, I am familiar with the textbook 'Feedback Systems' by Karl Johan Åström and Richard M. Murray. It is a widely used textbook in the field of control systems engineering and provides an introduction and understanding of feedback control systems.\n",
      "\n",
      "Yes, I am familiar with the textbook 'Feedback Systems' by Karl Johan Åström and Richard M. Murray. It is a widely-used textbook in the field of control systems engineering. The book covers the basics of feedback control, modeling and analysis of dynamical systems, and design of control systems. It is a valuable resource for both undergraduate and graduate students in engineering and related fields.\n",
      "\n",
      "I apologize, but I cannot answer your question without knowing the specific question or topic related to the textbook 'Feedback Systems'. Please provide me with more details so that I can assist you better.\n"
     ]
    }
   ],
   "source": [
    "#Note: The openai-python library support for Azure OpenAI is in preview.\n",
    "import os\n",
    "import openai\n",
    "openai.api_type = \"azure\"\n",
    "openai.api_base = \"https://chalmers-mit-openai.openai.azure.com/\"\n",
    "openai.api_version = \"2023-05-15\"\n",
    "\n",
    "with(open('openai.key')) as f:\n",
    "    openai.api_key = f.read().strip()\n",
    "\n",
    "# Define the conversation with a question from the user\n",
    "# question = \"Are you familiar with the textbook 'Feedback Systems', by Karl Johan Åström and Richard M. Murray?\"\n",
    "# {\"role\": \"user\", \"content\": question}\n",
    "conversation = [\n",
    "    {\"role\": \"system\", \"content\": \"You are a helpful teacher that will assist students with questions regarding information in a given textbook. Your answer should be short and concise while still being informational.\"}\n",
    "]\n",
    "\n",
    "# Generate responses in a loop\n",
    "while True:\n",
    "    user_input = input(\"\")  # Get user input\n",
    "    print(user_input)\n",
    "\n",
    "     # Check if user wants to end the conversation\n",
    "    if user_input.lower() == \"exit\" or user_input.lower() == \"quit\":\n",
    "        break\n",
    "\n",
    "    # Add user message to conversation\n",
    "    conversation.append({\"role\": \"user\", \"content\": user_input})\n",
    "\n",
    "    # Generate model response\n",
    "    response = openai.ChatCompletion.create(\n",
    "        engine=\"gpt-35-turbo\",\n",
    "        messages=conversation\n",
    "    )\n",
    "\n",
    "    # Get assistant's reply from the response\n",
    "    assistant_reply =  response['choices'][0]['message']['content']\n",
    "\n",
    "    print(\"Assistant:\", assistant_reply)\n",
    "\n",
    "    # Add assistant message to conversation\n",
    "    conversation.append({\"role\": \"assistant\", \"content\": assistant_reply})\n",
    "\n"
   ]
  }
 ],
 "metadata": {
  "kernelspec": {
   "display_name": "Python 3",
   "language": "python",
   "name": "python3"
  },
  "language_info": {
   "codemirror_mode": {
    "name": "ipython",
    "version": 3
   },
   "file_extension": ".py",
   "mimetype": "text/x-python",
   "name": "python",
   "nbconvert_exporter": "python",
   "pygments_lexer": "ipython3",
   "version": "3.11.1"
  },
  "orig_nbformat": 4
 },
 "nbformat": 4,
 "nbformat_minor": 2
}
